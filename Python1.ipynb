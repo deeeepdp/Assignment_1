{
 "cells": [
  {
   "cell_type": "markdown",
   "id": "e149059c",
   "metadata": {},
   "source": [
    "Question:1 \n",
    "\n",
    "The following is a list of 10 students ages: \n",
    "ages = [19, 22, 19, 24, 20, 25, 26, 24, 25, 24] \n",
    "\n",
    "• Sort the list and find the min and max age\n",
    "\n",
    "• Add the min age and the max age again to the list \n",
    "\n",
    "• Find the median age (one middle item or two middle items divided by two)\n",
    "\n",
    "• Find the average age (sum of all items divided by their number) \n",
    "\n",
    "• Find the range of the ages (max minus min) "
   ]
  },
  {
   "cell_type": "code",
   "execution_count": 28,
   "id": "c11c9b5c",
   "metadata": {},
   "outputs": [
    {
     "name": "stdout",
     "output_type": "stream",
     "text": [
      "[19, 19, 20, 22, 24, 24, 24, 25, 25, 26]\n",
      "maximum number is:26\n",
      "minimum numebr is:19\n",
      "[19, 19, 20, 22, 24, 24, 24, 25, 25, 26, 26]\n",
      "[19, 19, 19, 20, 22, 24, 24, 24, 25, 25, 26, 26]\n",
      "24.0\n",
      "Average list = 22.75\n",
      "[19, 19, 22, 19, 24, 20, 25, 26, 24, 25, 26, 24]\n",
      "(19, 26)\n",
      "7\n"
     ]
    }
   ],
   "source": [
    "import statistics\n",
    "\n",
    "#1 \n",
    "\n",
    "#Sort the list and find the min and max age \n",
    "ages = [19, 22, 19, 24, 20, 25, 26, 24, 25, 24] \n",
    "print(sorted(ages))\n",
    "\n",
    "# maximum number use max() command\n",
    "print(\"maximum number is:\", end=\"\")\n",
    "print(max(ages))\n",
    "\n",
    "# minimum number use min() command \n",
    "print(\"minimum numebr is:\", end=\"\")\n",
    "print(min(ages)) \n",
    "\n",
    "#2\n",
    "\n",
    "#ages.append(max(ages))\n",
    "#print(sorted(ages))\n",
    "\n",
    "ages.insert(-1, max(ages))\n",
    "print(sorted(ages))\n",
    "\n",
    "ages.insert(0, min(ages))\n",
    "print(sorted(ages))\n",
    "\n",
    "#3  \n",
    "\n",
    "#find median of this ages so that's why we add (import statistics) in starting \n",
    "print(statistics.median(ages))\n",
    "\n",
    "#4\n",
    "\n",
    "def Average(ages):\n",
    "    return sum(ages) / len(ages) # use sum of all ages and divide by that len of ages like 273/12 = 22.75\n",
    "                                 #print(sum(ages))\n",
    "                                 #print(len(ages))\n",
    "average = Average(ages)\n",
    "print(\"Average list =\", round(average, 2))\n",
    "\n",
    "#5 • Find the range of the ages (max minus min) \n",
    "print(ages)\n",
    "range_of_data = min(ages),max(ages)\n",
    "print(range_of_data)\n",
    "print(max(ages)-min(ages))\n"
   ]
  },
  {
   "cell_type": "markdown",
   "id": "59ae57a5",
   "metadata": {},
   "source": [
    "Question 2\n",
    "\n",
    "\n",
    "• Create an empty dictionary called dog\n",
    "\n",
    "• Add name, color, breed, legs, age to the dog dictionary\n",
    "\n",
    "• Create a student dictionary and add first_name, last_name, gender, age, marital status, skills, country, city and address   as keys for the dictionary\n",
    "\n",
    "• Get the length of the student dictionary\n",
    "\n",
    "• Get the value of skills and check the data type, it should be a list\n",
    "\n",
    "• Modify the skills values by adding one or two skills\n",
    "\n",
    "• Get the dictionary keys as a list\n",
    "\n",
    "• Get the dictionary values as a list"
   ]
  },
  {
   "cell_type": "code",
   "execution_count": 32,
   "id": "2795ce0b",
   "metadata": {},
   "outputs": [
    {
     "name": "stdout",
     "output_type": "stream",
     "text": [
      "{}\n",
      "<class 'dict'>\n",
      "{'name': 'abc', 'color': 'black', 'breeds': 'wsx', 'legs': 4, 'age': 5}\n",
      "{'first_name': 'Dee', 'last_name': 'Patel', 'age': 23, 'gender': 'M', 'city': 'kansas city', 'country': 'USA', 'is_marred': False, 'skills': ['JavaScript', 'React', 'Node', 'MongoDB', 'Python'], 'address': {'street': 'troost street', 'zipcode': '64108'}}\n",
      "{'first_name': 'Dee', 'last_name': 'Patel', 'age': 23, 'gender': 'M', 'city': 'kansas city', 'country': 'USA', 'is_marred': False, 'skills': ['JavaScript', 'React', 'Node', 'MongoDB', 'Python'], 'address': {'street': 'troost street', 'zipcode': '64108'}}\n",
      "9\n",
      "{'first_name': 'Dee', 'last_name': 'Patel', 'age': 23, 'gender': 'M', 'city': 'kansas city', 'country': 'USA', 'is_marred': False, 'skills': ['JavaScript', 'React', 'Node', 'MongoDB', 'Python', 'HTML'], 'address': {'street': 'troost street', 'zipcode': '64108'}}\n",
      "dict_keys(['first_name', 'last_name', 'age', 'gender', 'city', 'country', 'is_marred', 'skills', 'address'])\n"
     ]
    }
   ],
   "source": [
    "#1\n",
    "dog = {}\n",
    "print(dog)\n",
    "print(type(dog))\n",
    "\n",
    "#2\n",
    "dog = {\"name\" :\"abc\", \"color\":\"black\", \"breeds\" : \"wsx\", \"legs\":4, \"age\": 5 ,\n",
    "      }\n",
    "print(dog)\n"
   ]
  },
  {
   "cell_type": "code",
   "execution_count": 6,
   "id": "93df88d7",
   "metadata": {},
   "outputs": [
    {
     "name": "stdout",
     "output_type": "stream",
     "text": [
      "{'first_name': 'Dee', 'last_name': 'Patel', 'age': 23, 'gender': 'M', 'city': 'kansas city', 'country': 'USA', 'is_marred': False, 'skills': ['JavaScript', 'React', 'Node', 'MongoDB', 'Python'], 'address': {'street': 'troost street', 'zipcode': '64108'}}\n"
     ]
    }
   ],
   "source": [
    "#3 Create a student dictionary and add first_name, last_name, gender, age, marital status, skills, country, city and address as keys for the dictionary\n",
    "student = {\n",
    "    'first_name':'Dee',\n",
    "    'last_name':'Patel',\n",
    "    'age':23,\n",
    "    'gender': 'M',\n",
    "    'city': 'kansas city',\n",
    "    'country':'USA',\n",
    "    'is_marred':False,\n",
    "    'skills':['JavaScript', 'React', 'Node', 'MongoDB', 'Python'],\n",
    "    'address':{\n",
    "        'street':'troost street',\n",
    "        'zipcode':'64108'\n",
    "    }\n",
    "}\n",
    "print(student)"
   ]
  },
  {
   "cell_type": "code",
   "execution_count": 7,
   "id": "844b1e51",
   "metadata": {},
   "outputs": [
    {
     "name": "stdout",
     "output_type": "stream",
     "text": [
      "{'first_name': 'Dee', 'last_name': 'Patel', 'age': 23, 'gender': 'M', 'city': 'kansas city', 'country': 'USA', 'is_marred': False, 'skills': ['JavaScript', 'React', 'Node', 'MongoDB', 'Python'], 'address': {'street': 'troost street', 'zipcode': '64108'}}\n",
      "9\n"
     ]
    }
   ],
   "source": [
    "#4 Get the length of the student dictionary\n",
    "student = {\n",
    "    'first_name':'Dee',\n",
    "    'last_name':'Patel',\n",
    "    'age':23,\n",
    "    'gender': 'M',\n",
    "    'city': 'kansas city',\n",
    "    'country':'USA',\n",
    "    'is_marred':False,\n",
    "    'skills':['JavaScript', 'React', 'Node', 'MongoDB', 'Python'],\n",
    "    'address':{\n",
    "        'street':'troost street',\n",
    "        'zipcode':'64108'\n",
    "    }\n",
    "}\n",
    "print(student)\n",
    "print(len(student)) # use len for find lenght of dictionary"
   ]
  },
  {
   "cell_type": "code",
   "execution_count": 8,
   "id": "ebcb2792",
   "metadata": {},
   "outputs": [
    {
     "name": "stdout",
     "output_type": "stream",
     "text": [
      "<class 'list'>\n",
      "{'first_name': 'Dee', 'last_name': 'Patel', 'age': 23, 'gender': 'M', 'city': 'kansas city', 'country': 'USA', 'is_marred': False, 'skills': ['JavaScript', 'React', 'Node', 'MongoDB', 'Python', 'HTML'], 'address': {'street': 'troost street', 'zipcode': '64108'}}\n"
     ]
    }
   ],
   "source": [
    "#8 Get the value of skills and check the data type,\n",
    "print(type(student[\"skills\"]))\n",
    "\n",
    "#5 Modify the skills values by adding one or two skills\n",
    "\n",
    "student['skills'].append('HTML')\n",
    "print(student)"
   ]
  },
  {
   "cell_type": "code",
   "execution_count": 9,
   "id": "c2430bd4",
   "metadata": {},
   "outputs": [
    {
     "name": "stdout",
     "output_type": "stream",
     "text": [
      "dict_keys(['first_name', 'last_name', 'age', 'gender', 'city', 'country', 'is_marred', 'skills', 'address'])\n"
     ]
    }
   ],
   "source": [
    "#6 Get the dictionary keys as a list\n",
    "#dct = {'key1':'value1', 'key2':'value2', 'key3':'value3', 'key4':'value4'}\n",
    "#keys = dct.keys()\n",
    "#print(keys)     # dict_keys(['key1', 'key2', 'key3', 'key4'])\n",
    " \n",
    "student = {\n",
    "    'first_name':'Dee',\n",
    "    'last_name':'Patel',\n",
    "    'age':23,\n",
    "    'gender': 'M',\n",
    "    'city': 'kansas city',\n",
    "    'country':'USA',\n",
    "    'is_marred':False,\n",
    "    'skills':['JavaScript', 'React', 'Node', 'MongoDB', 'Python'],\n",
    "    'address':{\n",
    "        'street':'troost street',\n",
    "        'zipcode':'64108'\n",
    "    }\n",
    "}\n",
    "keys = student.keys()\n",
    "print(keys)"
   ]
  },
  {
   "cell_type": "code",
   "execution_count": 35,
   "id": "068578ce",
   "metadata": {},
   "outputs": [
    {
     "name": "stdout",
     "output_type": "stream",
     "text": [
      "dict_values(['Dee', 'Patel', 23, 'M', 'kansas city', 'USA', False, ['JavaScript', 'React', 'Node', 'MongoDB', 'Python'], {'street': 'troost street', 'zipcode': '64108'}])\n"
     ]
    }
   ],
   "source": [
    "#7 Get the dictionary values as a list\n",
    "#dct = {'key1':'value1', 'key2':'value2', 'key3':'value3', 'key4':'value4'}\n",
    "#values = dct.values()\n",
    "#print(values)     # dict_values(['value1', 'value2', 'value3', 'value4'])\n",
    "student = {\n",
    "    'first_name':'Dee',\n",
    "    'last_name':'Patel',\n",
    "    'age':23,\n",
    "    'gender': 'M',\n",
    "    'city': 'kansas city',\n",
    "    'country':'USA',\n",
    "    'is_marred':False,\n",
    "    'skills':['JavaScript', 'React', 'Node', 'MongoDB', 'Python'],\n",
    "    'address':{\n",
    "        'street':'troost street',\n",
    "        'zipcode':'64108'\n",
    "    }\n",
    "}\n",
    "values = student.values()\n",
    "print(values)"
   ]
  },
  {
   "cell_type": "markdown",
   "id": "780026e1",
   "metadata": {},
   "source": [
    "Question 3\n",
    "\n",
    "\n",
    "• Create a tuple containing names of your sisters and your brothers (imaginary siblings are fine)\n",
    "\n",
    "• Join brothers and sisters tuples and assign it to siblings\n",
    "\n",
    "• How many siblings do you have?\n",
    "\n",
    "• Modify the siblings tuple and add the name of your father and mother and assign it to family_members"
   ]
  },
  {
   "cell_type": "code",
   "execution_count": 56,
   "id": "84994a6f",
   "metadata": {},
   "outputs": [
    {
     "name": "stdout",
     "output_type": "stream",
     "text": [
      "('Deep', 'Dev', 'Nik', 'Nirav')\n",
      "('sivu', 'ashmi')\n",
      "('Deep', 'Dev', 'Nik', 'Nirav', 'sivu', 'ashmi')\n",
      "('Deep', 'Dev', 'Nik', 'Nirav')\n",
      "('sivu', 'ashmi')\n",
      "('Deep', 'Dev', 'Nik', 'Nirav', 'sivu', 'ashmi')\n",
      "('KHP', 'IKP', 'Deep', 'Dev', 'Nik', 'Nirav', 'sivu', 'ashmi')\n"
     ]
    }
   ],
   "source": [
    "#1\n",
    "brothers = ('Deep','Dev' , 'Nik', 'Nirav')\n",
    "sisters = ('sivu','ashmi') \n",
    "print(brothers)\n",
    "print(sisters)\n",
    "\n",
    "#2\n",
    "siblings = brothers + sisters\n",
    "print(siblings)\n",
    "\n",
    "#3 \n",
    "print(brothers)\n",
    "print(sisters)\n",
    "print(siblings)\n",
    "len(siblings)\n",
    "\n",
    "#4\n",
    "siblings = ('Deep','Dev', 'Nik', 'Nirav', 'sivu', 'ashmi')\n",
    "family = (\"KHP\",\"IKP\",)\n",
    "family += siblings\n",
    "print(family)"
   ]
  },
  {
   "cell_type": "markdown",
   "id": "685735a8",
   "metadata": {},
   "source": [
    "Question 4\n",
    "\n",
    "\n",
    "it_companies = {'Facebook', 'Google', 'Microsoft', 'Apple', 'IBM', 'Oracle', 'Amazon'}\n",
    "\n",
    "A = {19, 22, 24, 20, 25, 26}\n",
    "\n",
    "B = {19, 22, 20, 25, 26, 24, 28, 27}\n",
    "\n",
    "age = [22, 19, 24, 25, 26, 24, 25, 24]\n",
    "\n",
    "\n",
    "• Find the length of the set it_companies\n",
    "\n",
    "• Add 'Twitter' to it_companies\n",
    "\n",
    "• Insert multiple IT companies at once to the set it_companies\n",
    "\n",
    "• Remove one of the companies from the set it_companies\n",
    "\n",
    "• What is the difference between remove and discard\n",
    "\n",
    "• Join A and B\n",
    "\n",
    "• Find A intersection B\n",
    "\n",
    "• Is A subset of B\n",
    "\n",
    "• Are A and B disjoint sets\n",
    "\n",
    "• Join A with B and B with A\n",
    "\n",
    "• What is the symmetric difference between A and B\n",
    "\n",
    "• Delete the sets completely\n",
    "\n",
    "• Convert the ages to a set and compare the length of the list and the set."
   ]
  },
  {
   "cell_type": "code",
   "execution_count": 71,
   "id": "8c70ceb4",
   "metadata": {},
   "outputs": [
    {
     "data": {
      "text/plain": [
       "7"
      ]
     },
     "execution_count": 71,
     "metadata": {},
     "output_type": "execute_result"
    }
   ],
   "source": [
    "\n",
    "it_companies = {'Facebook', 'Google', 'Microsoft', 'Apple', 'IBM', 'Oracle', 'Amazon'}\n",
    "\n",
    "A = {19, 22, 24, 20, 25, 26}\n",
    "\n",
    "B = {19, 22, 20, 25, 26, 24, 28, 27}\n",
    "\n",
    "age = [22, 19, 24, 25, 26, 24, 25, 24]\n",
    "\n",
    "#1\n",
    "#Find the length of the set it_companies\n",
    "#st = {'item1', 'item2', 'item3', 'item4'}\n",
    "#len(set)\n",
    "it_companies = {'Facebook', 'Google', 'Microsoft', 'Apple', 'IBM', 'Oracle', 'Amazon'}\n",
    "len(it_companies)\n"
   ]
  },
  {
   "cell_type": "code",
   "execution_count": 72,
   "id": "3586ef6c",
   "metadata": {},
   "outputs": [
    {
     "name": "stdout",
     "output_type": "stream",
     "text": [
      "{'Oracle', 'IBM', 'Amazon', 'Apple', 'Facebook', 'Microsoft', 'Google', 'Twitter'}\n"
     ]
    }
   ],
   "source": [
    "#2\n",
    "#Add 'Twitter' to it_companies\n",
    "#st = {'item1', 'item2', 'item3', 'item4'}\n",
    "#st.add('item5')\n",
    "it_companies.add('Twitter')\n",
    "print(it_companies)"
   ]
  },
  {
   "cell_type": "code",
   "execution_count": 74,
   "id": "f3f43c02",
   "metadata": {},
   "outputs": [
    {
     "name": "stdout",
     "output_type": "stream",
     "text": [
      "{'Apple', 'SAAS', 'SnapChat', 'Microsoft', 'Twitter', 'Facebook', 'Google', 'Oracle', 'IBM', 'Amazon', 'DELL'}\n"
     ]
    }
   ],
   "source": [
    "#3 \n",
    "#Insert multiple IT companies at once to the set it_companies\n",
    "#st = {'item1', 'item2', 'item3', 'item4'}\n",
    "#st.update(['item5','item6','item7'])\n",
    "it_companies.update(['SAAS','SnapChat','DELL'])\n",
    "print(it_companies)"
   ]
  },
  {
   "cell_type": "code",
   "execution_count": 103,
   "id": "045d0f35",
   "metadata": {},
   "outputs": [
    {
     "name": "stdout",
     "output_type": "stream",
     "text": [
      "{'Oracle', 'IBM', 'Amazon', 'Apple', 'Facebook', 'Microsoft', 'Google'}\n",
      "{'Oracle', 'Amazon', 'Apple', 'Facebook', 'Microsoft', 'Google'}\n",
      "{'Oracle', 'Apple', 'Facebook', 'Microsoft', 'Google'}\n"
     ]
    }
   ],
   "source": [
    "#4\n",
    "# Remove one of the companies from the set it_companies\n",
    "#st = {'item1', 'item2', 'item3', 'item4'}\n",
    "#st.remove('item2')\n",
    "\n",
    "#fruits = {'banana', 'orange', 'mango', 'lemon'}\n",
    "#fruits.pop()\n",
    "it_companies = {'Facebook', 'Google', 'Microsoft', 'Apple', 'IBM', 'Oracle', 'Amazon'}\n",
    "print(it_companies)\n",
    "it_companies.remove('IBM')\n",
    "print(it_companies)\n",
    "\n",
    "#discard use: set.discard(value)\n",
    "it_companies.discard('Amazon')\n",
    "print(it_companies)"
   ]
  },
  {
   "cell_type": "code",
   "execution_count": 1,
   "id": "116fc697",
   "metadata": {},
   "outputs": [],
   "source": [
    "#5\n",
    "#What is the difference between remove and discard?\n",
    "#The main difference is that this discard function leaves a set unchange if element is not in set ,whereas in remove() function will give an error in such condition.\n"
   ]
  },
  {
   "cell_type": "code",
   "execution_count": 3,
   "id": "ed514f31",
   "metadata": {},
   "outputs": [
    {
     "name": "stdout",
     "output_type": "stream",
     "text": [
      "{19, 20, 22, 24, 25, 26, 27, 28}\n"
     ]
    }
   ],
   "source": [
    "#6\n",
    "#Join A and B\n",
    "#st1 = {'item1', 'item2', 'item3', 'item4'}\n",
    "#st2 = {'item5', 'item6', 'item7', 'item8'}\n",
    "#st3 = st1.union(st2)\n",
    "\n",
    "A = {19, 22, 24, 20, 25, 26}\n",
    "\n",
    "B = {19, 22, 20, 25, 26, 24, 28, 27}\n",
    "\n",
    "print(A.union(B))"
   ]
  },
  {
   "cell_type": "code",
   "execution_count": 4,
   "id": "2b8b6d55",
   "metadata": {},
   "outputs": [
    {
     "name": "stdout",
     "output_type": "stream",
     "text": [
      "{19, 20, 22, 24, 25, 26}\n"
     ]
    }
   ],
   "source": [
    "#7\n",
    "#Find A intersection B\n",
    "# syntax\n",
    "#st1 = {'item1', 'item2', 'item3', 'item4'}\n",
    "#st2 = {'item3', 'item2'}\n",
    "#st1.intersection(st2)    # {'item3', 'item2'}\n",
    "\n",
    "A = {19, 22, 24, 20, 25, 26}\n",
    "B = {19, 22, 20, 25, 26, 24, 28, 27}\n",
    "print(A.intersection(B)) "
   ]
  },
  {
   "cell_type": "code",
   "execution_count": 5,
   "id": "e8131c04",
   "metadata": {},
   "outputs": [
    {
     "data": {
      "text/plain": [
       "True"
      ]
     },
     "execution_count": 5,
     "metadata": {},
     "output_type": "execute_result"
    }
   ],
   "source": [
    "#8\n",
    "#Is A subset of B\n",
    "#st1 = {'item1', 'item2', 'item3', 'item4'}\n",
    "#st2 = {'item2', 'item3'}\n",
    "#st2.issubset(st1) # True\n",
    "#st1.issuperset(st2) # True\n",
    "\n",
    "A = {19, 22, 24, 20, 25, 26}\n",
    "B = {19, 22, 20, 25, 26, 24, 28, 27}\n",
    "A.issubset(B)"
   ]
  },
  {
   "cell_type": "code",
   "execution_count": 6,
   "id": "32d5a80f",
   "metadata": {},
   "outputs": [
    {
     "data": {
      "text/plain": [
       "False"
      ]
     },
     "execution_count": 6,
     "metadata": {},
     "output_type": "execute_result"
    }
   ],
   "source": [
    "#9\n",
    "#Are A and B disjoint sets\n",
    "#set_a.isdisjoint(set_b)\n",
    "A = {19, 22, 24, 20, 25, 26}\n",
    "B = {19, 22, 20, 25, 26, 24, 28, 27}\n",
    "A.isdisjoint(B)"
   ]
  },
  {
   "cell_type": "code",
   "execution_count": 11,
   "id": "52938f70",
   "metadata": {},
   "outputs": [
    {
     "name": "stdout",
     "output_type": "stream",
     "text": [
      "{19, 20, 22, 24, 25, 26, 27, 28}\n",
      "{19, 20, 22, 24, 25, 26, 27, 28}\n"
     ]
    }
   ],
   "source": [
    "#10\n",
    "#Join A with B and B with A\n",
    "A = {19, 22, 24, 20, 25, 26}\n",
    "B = {19, 22, 20, 25, 26, 24, 28, 27}\n",
    "print(A.union(B))\n",
    "print(B.union(A))"
   ]
  },
  {
   "cell_type": "code",
   "execution_count": 12,
   "id": "f03a733d",
   "metadata": {},
   "outputs": [
    {
     "data": {
      "text/plain": [
       "{27, 28}"
      ]
     },
     "execution_count": 12,
     "metadata": {},
     "output_type": "execute_result"
    }
   ],
   "source": [
    "#11\n",
    "#What is the symmetric difference between A and B\n",
    "A = {19, 22, 24, 20, 25, 26}\n",
    "B = {19, 22, 20, 25, 26, 24, 28, 27}\n",
    "A.symmetric_difference(B)"
   ]
  },
  {
   "cell_type": "code",
   "execution_count": 14,
   "id": "6c846c4b",
   "metadata": {},
   "outputs": [
    {
     "ename": "NameError",
     "evalue": "name 'A' is not defined",
     "output_type": "error",
     "traceback": [
      "\u001b[1;31m---------------------------------------------------------------------------\u001b[0m",
      "\u001b[1;31mNameError\u001b[0m                                 Traceback (most recent call last)",
      "Input \u001b[1;32mIn [14]\u001b[0m, in \u001b[0;36m<cell line: 6>\u001b[1;34m()\u001b[0m\n\u001b[0;32m      4\u001b[0m B \u001b[38;5;241m=\u001b[39m {\u001b[38;5;241m19\u001b[39m, \u001b[38;5;241m22\u001b[39m, \u001b[38;5;241m20\u001b[39m, \u001b[38;5;241m25\u001b[39m, \u001b[38;5;241m26\u001b[39m, \u001b[38;5;241m24\u001b[39m, \u001b[38;5;241m28\u001b[39m, \u001b[38;5;241m27\u001b[39m}\n\u001b[0;32m      5\u001b[0m \u001b[38;5;28;01mdel\u001b[39;00m A\n\u001b[1;32m----> 6\u001b[0m \u001b[38;5;28mprint\u001b[39m(\u001b[43mA\u001b[49m)\n",
      "\u001b[1;31mNameError\u001b[0m: name 'A' is not defined"
     ]
    }
   ],
   "source": [
    "#12\n",
    "#delete set\n",
    "A = {19, 22, 24, 20, 25, 26}\n",
    "B = {19, 22, 20, 25, 26, 24, 28, 27}\n",
    "del A\n",
    "print(A) # GOT error means now we dont have any A set."
   ]
  },
  {
   "cell_type": "code",
   "execution_count": 26,
   "id": "9c4fd687",
   "metadata": {},
   "outputs": [
    {
     "name": "stdout",
     "output_type": "stream",
     "text": [
      "{19, 22, 24, 25, 26}\n"
     ]
    },
    {
     "data": {
      "text/plain": [
       "5"
      ]
     },
     "execution_count": 26,
     "metadata": {},
     "output_type": "execute_result"
    }
   ],
   "source": [
    "#13\n",
    "#Convert the ages to a set and compare the length of the list and the set.\n",
    "age = [22, 19, 24, 25, 26, 24, 25, 24]\n",
    "set_convert = set(age)\n",
    "print(set_convert)\n",
    "\n",
    "len(set_convert)"
   ]
  },
  {
   "cell_type": "code",
   "execution_count": 27,
   "id": "649b44d6",
   "metadata": {},
   "outputs": [
    {
     "data": {
      "text/plain": [
       "8"
      ]
     },
     "execution_count": 27,
     "metadata": {},
     "output_type": "execute_result"
    }
   ],
   "source": [
    "age = [22, 19, 24, 25, 26, 24, 25, 24]\n",
    "len(age) "
   ]
  },
  {
   "cell_type": "markdown",
   "id": "8fbf8767",
   "metadata": {},
   "source": [
    "Question 5\n",
    "\n",
    "The radius of a circle is 30 meters.\n",
    "\n",
    "• Calculate the area of a circle and assign the value to a variable name of _area_of_circle_\n",
    "\n",
    "• Calculate the circumference of a circle and assign the value to a variable name of _circum_of_circle_\n",
    "\n",
    "• Take radius as user input and calculate the area."
   ]
  },
  {
   "cell_type": "code",
   "execution_count": 28,
   "id": "479d95ee",
   "metadata": {},
   "outputs": [
    {
     "name": "stdout",
     "output_type": "stream",
     "text": [
      "2826.0\n"
     ]
    }
   ],
   "source": [
    "#1\n",
    "R = 30 \n",
    "area_of_circle = 3.14 * R * R \n",
    "print(area_of_circle)"
   ]
  },
  {
   "cell_type": "code",
   "execution_count": 29,
   "id": "670defde",
   "metadata": {},
   "outputs": [
    {
     "name": "stdout",
     "output_type": "stream",
     "text": [
      "188.4\n"
     ]
    }
   ],
   "source": [
    "#2\n",
    "R = 30\n",
    "circum_of_circle = 2 * 3.14 * R \n",
    "print(circum_of_circle)"
   ]
  },
  {
   "cell_type": "code",
   "execution_count": 34,
   "id": "1916708d",
   "metadata": {},
   "outputs": [
    {
     "name": "stdout",
     "output_type": "stream",
     "text": [
      "Enter the radius of the circle : 30\n",
      "The area of the circle with radius 30.0 is: 2827.4333882308138\n"
     ]
    }
   ],
   "source": [
    "#3\n",
    "from math import pi\n",
    "r = float(input (\"Enter the radius of the circle : \"))\n",
    "print (\"The area of the circle with radius \" + str(r) + \" is: \" + str(pi * r**2))"
   ]
  },
  {
   "cell_type": "markdown",
   "id": "3fbea9ea",
   "metadata": {},
   "source": [
    "Question 6\n",
    "\n",
    "“I am a teacher and I love to inspire and teach people”\n",
    "\n",
    "• How many unique words have been used in the sentence? Use the split methods and set to get the unique words."
   ]
  },
  {
   "cell_type": "code",
   "execution_count": 2,
   "id": "0d10ca94",
   "metadata": {},
   "outputs": [
    {
     "name": "stdout",
     "output_type": "stream",
     "text": [
      "['I', 'am', 'a', 'teacher', 'and', 'I', 'love', 'to', 'inspire', 'and', 'teach', 'people']\n"
     ]
    }
   ],
   "source": [
    "challenge = 'I am a teacher and I love to inspire and teach people'\n",
    "print(challenge.split())"
   ]
  },
  {
   "cell_type": "code",
   "execution_count": 3,
   "id": "2b9331d4",
   "metadata": {},
   "outputs": [
    {
     "name": "stdout",
     "output_type": "stream",
     "text": [
      "10\n"
     ]
    }
   ],
   "source": [
    "challenge = 'I am a teacher and I love to inspire and teach people'\n",
    "print(len(set(challenge.split())))"
   ]
  },
  {
   "cell_type": "code",
   "execution_count": 7,
   "id": "a629491a",
   "metadata": {},
   "outputs": [
    {
     "name": "stdout",
     "output_type": "stream",
     "text": [
      "['r', 'h', ' ', 's', 'I', 'a', 'i', 'c', 'e', 'm', 'l', 'o', 'p', 't', 'd', 'v', 'n']\n"
     ]
    }
   ],
   "source": [
    "unique_numbers = list(set(challenge))\n",
    "print(unique_numbers)"
   ]
  },
  {
   "cell_type": "code",
   "execution_count": 10,
   "id": "d5931786",
   "metadata": {},
   "outputs": [
    {
     "name": "stdout",
     "output_type": "stream",
     "text": [
      "{'I': 2, ' ': 11, 'a': 6, 'm': 1, 't': 3, 'e': 7, 'c': 2, 'h': 2, 'r': 2, 'n': 3, 'd': 2, 'l': 2, 'o': 3, 'v': 1, 'i': 2, 's': 1, 'p': 3}\n"
     ]
    }
   ],
   "source": [
    "bb=dict(zip(list(challenge),[list(challenge).count(i) for i in list(challenge)]))\n",
    "print(bb)"
   ]
  },
  {
   "cell_type": "markdown",
   "id": "c9c4228a",
   "metadata": {},
   "source": [
    "Question 7\n",
    "\n",
    "Use a tab escape sequence to get the following lines.\n",
    "\n",
    "Name Age Country City\n",
    "\n",
    "Asabeneh 250 Finland Helsinki"
   ]
  },
  {
   "cell_type": "code",
   "execution_count": 15,
   "id": "45c0c766",
   "metadata": {},
   "outputs": [
    {
     "name": "stdout",
     "output_type": "stream",
     "text": [
      "Name\t\tAge\tCountry\t\tCity\n",
      "Asabeneh\t250\tFinland\t\tHelsinki\n"
     ]
    }
   ],
   "source": [
    "print('Name\\t\\tAge\\tCountry\\t\\tCity') \n",
    "print('Asabeneh\\t250\\tFinland\\t\\tHelsinki')"
   ]
  },
  {
   "cell_type": "markdown",
   "id": "9cd88986",
   "metadata": {},
   "source": [
    "Question 8\n",
    "\n",
    "Use the string formatting method to display the following:\n",
    "\n",
    "radius = 10\n",
    "\n",
    "area = 3.14 * radius ** 2\n",
    "\n",
    "“The area of a circle with radius 10 is 314 meters square.”"
   ]
  },
  {
   "cell_type": "code",
   "execution_count": 22,
   "id": "eabd409e",
   "metadata": {},
   "outputs": [
    {
     "name": "stdout",
     "output_type": "stream",
     "text": [
      "The area of the circle with radius 10 is 314.0 meters square. \n"
     ]
    }
   ],
   "source": [
    "radius = 10                                 \n",
    "area_of_circle = 3.14 * radius ** 2         \n",
    "print (\"The area of the circle with radius \" + str(radius) + \" is \" + str(3.14 * radius**2) + \" meters square. \")"
   ]
  },
  {
   "cell_type": "markdown",
   "id": "c7e051c7",
   "metadata": {},
   "source": [
    "Question 9\n",
    "\n",
    "Write a program, which reads weights (lbs.) of N students into a list and convert these weights to kilograms in a separate list using Loop.\n",
    "\n",
    "N: No of students (Read input from user)\n",
    "\n",
    "Ex: L1: [150, 155, 145, 148]\n",
    "\n",
    "Output: [68.03, 70.3, 65.77, 67.13]"
   ]
  },
  {
   "cell_type": "code",
   "execution_count": 3,
   "id": "e8601954",
   "metadata": {},
   "outputs": [
    {
     "name": "stdout",
     "output_type": "stream",
     "text": [
      "Enter the number of students :4\n",
      "Enter the weight in lbs:150\n",
      "Enter the weight in lbs:155\n",
      "Enter the weight in lbs:145\n",
      "Enter the weight in lbs:148\n",
      "The list in kg is: [67.5, 69.75, 65.25, 66.60000000000001]\n"
     ]
    }
   ],
   "source": [
    "stat = 0.45\n",
    "x = int(input('Enter the number of students :'))\n",
    "list=[]\n",
    "for i in range(x):\n",
    "    list.append(int(input('Enter the weight in lbs:')))\n",
    "    \n",
    "output = [stat*i for i in list]\n",
    "print(\"The list in kg is:\",output)"
   ]
  },
  {
   "cell_type": "code",
   "execution_count": null,
   "id": "de51f86e",
   "metadata": {},
   "outputs": [],
   "source": []
  }
 ],
 "metadata": {
  "kernelspec": {
   "display_name": "Python 3 (ipykernel)",
   "language": "python",
   "name": "python3"
  },
  "language_info": {
   "codemirror_mode": {
    "name": "ipython",
    "version": 3
   },
   "file_extension": ".py",
   "mimetype": "text/x-python",
   "name": "python",
   "nbconvert_exporter": "python",
   "pygments_lexer": "ipython3",
   "version": "3.9.12"
  }
 },
 "nbformat": 4,
 "nbformat_minor": 5
}
